{
 "cells": [
  {
   "cell_type": "code",
   "execution_count": 1,
   "id": "finnish-championship",
   "metadata": {},
   "outputs": [],
   "source": [
    "# We have imported numpy and pandas libraries.\n",
    "# We have imported linear_model library which is used for linear regression"
   ]
  },
  {
   "cell_type": "code",
   "execution_count": 2,
   "id": "lesser-ending",
   "metadata": {},
   "outputs": [],
   "source": [
    "import numpy as np\n",
    "import pandas as pd\n",
    "from sklearn import linear_model"
   ]
  },
  {
   "cell_type": "code",
   "execution_count": 3,
   "id": "subjective-first",
   "metadata": {},
   "outputs": [],
   "source": [
    "# We are conduct csv file and then showing the output of the file"
   ]
  },
  {
   "cell_type": "code",
   "execution_count": 20,
   "id": "asian-referral",
   "metadata": {},
   "outputs": [
    {
     "data": {
      "text/html": [
       "<div>\n",
       "<style scoped>\n",
       "    .dataframe tbody tr th:only-of-type {\n",
       "        vertical-align: middle;\n",
       "    }\n",
       "\n",
       "    .dataframe tbody tr th {\n",
       "        vertical-align: top;\n",
       "    }\n",
       "\n",
       "    .dataframe thead th {\n",
       "        text-align: right;\n",
       "    }\n",
       "</style>\n",
       "<table border=\"1\" class=\"dataframe\">\n",
       "  <thead>\n",
       "    <tr style=\"text-align: right;\">\n",
       "      <th></th>\n",
       "      <th>area</th>\n",
       "      <th>bedrooms</th>\n",
       "      <th>age</th>\n",
       "      <th>price</th>\n",
       "    </tr>\n",
       "  </thead>\n",
       "  <tbody>\n",
       "    <tr>\n",
       "      <th>0</th>\n",
       "      <td>2600</td>\n",
       "      <td>3.0</td>\n",
       "      <td>20</td>\n",
       "      <td>550000</td>\n",
       "    </tr>\n",
       "    <tr>\n",
       "      <th>1</th>\n",
       "      <td>3000</td>\n",
       "      <td>4.0</td>\n",
       "      <td>15</td>\n",
       "      <td>565000</td>\n",
       "    </tr>\n",
       "    <tr>\n",
       "      <th>2</th>\n",
       "      <td>3200</td>\n",
       "      <td>NaN</td>\n",
       "      <td>18</td>\n",
       "      <td>610000</td>\n",
       "    </tr>\n",
       "    <tr>\n",
       "      <th>3</th>\n",
       "      <td>3600</td>\n",
       "      <td>3.0</td>\n",
       "      <td>30</td>\n",
       "      <td>595000</td>\n",
       "    </tr>\n",
       "    <tr>\n",
       "      <th>4</th>\n",
       "      <td>4000</td>\n",
       "      <td>5.0</td>\n",
       "      <td>8</td>\n",
       "      <td>760000</td>\n",
       "    </tr>\n",
       "    <tr>\n",
       "      <th>5</th>\n",
       "      <td>4100</td>\n",
       "      <td>6.0</td>\n",
       "      <td>8</td>\n",
       "      <td>810000</td>\n",
       "    </tr>\n",
       "  </tbody>\n",
       "</table>\n",
       "</div>"
      ],
      "text/plain": [
       "   area  bedrooms  age   price\n",
       "0  2600       3.0   20  550000\n",
       "1  3000       4.0   15  565000\n",
       "2  3200       NaN   18  610000\n",
       "3  3600       3.0   30  595000\n",
       "4  4000       5.0    8  760000\n",
       "5  4100       6.0    8  810000"
      ]
     },
     "execution_count": 20,
     "metadata": {},
     "output_type": "execute_result"
    }
   ],
   "source": [
    "data=pd.read_csv(\"Desktop/homeprices.csv\")\n",
    "data"
   ]
  },
  {
   "cell_type": "code",
   "execution_count": 21,
   "id": "hybrid-static",
   "metadata": {},
   "outputs": [],
   "source": [
    "# We are training our model in LinearRegression\n",
    "# We have 1 independent variable area and 1 dependent variable price"
   ]
  },
  {
   "cell_type": "code",
   "execution_count": 22,
   "id": "crucial-sponsorship",
   "metadata": {},
   "outputs": [
    {
     "data": {
      "text/plain": [
       "LinearRegression()"
      ]
     },
     "execution_count": 22,
     "metadata": {},
     "output_type": "execute_result"
    }
   ],
   "source": [
    "MyTable = linear_model.LinearRegression()\n",
    "MyTable.fit(data[[\"area\"]],data[[\"price\"]])"
   ]
  },
  {
   "cell_type": "code",
   "execution_count": 23,
   "id": "designed-athletics",
   "metadata": {},
   "outputs": [],
   "source": [
    "# We are predicting the value of dependent variable(price) with the help of independent variable(area)"
   ]
  },
  {
   "cell_type": "code",
   "execution_count": 24,
   "id": "orange-profession",
   "metadata": {},
   "outputs": [
    {
     "data": {
      "text/plain": [
       "array([[612082.93153327]])"
      ]
     },
     "execution_count": 24,
     "metadata": {},
     "output_type": "execute_result"
    }
   ],
   "source": [
    "MyTable.predict([[3200]])"
   ]
  },
  {
   "cell_type": "code",
   "execution_count": 25,
   "id": "ordered-transition",
   "metadata": {},
   "outputs": [],
   "source": [
    "# We are conduct the coefficient of our independent variable"
   ]
  },
  {
   "cell_type": "code",
   "execution_count": 26,
   "id": "naked-producer",
   "metadata": {},
   "outputs": [
    {
     "data": {
      "text/plain": [
       "array([[167.30954677]])"
      ]
     },
     "execution_count": 26,
     "metadata": {},
     "output_type": "execute_result"
    }
   ],
   "source": [
    "MyTable.coef_"
   ]
  },
  {
   "cell_type": "code",
   "execution_count": 27,
   "id": "unknown-creator",
   "metadata": {},
   "outputs": [],
   "source": [
    "# We are conduct the value of our intercept "
   ]
  },
  {
   "cell_type": "code",
   "execution_count": 28,
   "id": "ordered-penguin",
   "metadata": {},
   "outputs": [
    {
     "data": {
      "text/plain": [
       "array([76692.38187078])"
      ]
     },
     "execution_count": 28,
     "metadata": {},
     "output_type": "execute_result"
    }
   ],
   "source": [
    "MyTable.intercept_"
   ]
  },
  {
   "cell_type": "code",
   "execution_count": 29,
   "id": "collective-nerve",
   "metadata": {},
   "outputs": [],
   "source": [
    "# Here the predicted value using the calculation of equation mx + c"
   ]
  },
  {
   "cell_type": "code",
   "execution_count": 30,
   "id": "conventional-terrorist",
   "metadata": {},
   "outputs": [
    {
     "data": {
      "text/plain": [
       "612082.9315347801"
      ]
     },
     "execution_count": 30,
     "metadata": {},
     "output_type": "execute_result"
    }
   ],
   "source": [
    "167.30954677*3200+76692.38187078"
   ]
  },
  {
   "cell_type": "code",
   "execution_count": 31,
   "id": "communist-relay",
   "metadata": {},
   "outputs": [],
   "source": [
    "from sklearn.metrics import mean_squared_error"
   ]
  },
  {
   "cell_type": "code",
   "execution_count": 32,
   "id": "electronic-stack",
   "metadata": {},
   "outputs": [],
   "source": [
    "# We are finding the mean_squared_error  [between original price and predicted price ]"
   ]
  },
  {
   "cell_type": "code",
   "execution_count": 33,
   "id": "noble-offense",
   "metadata": {},
   "outputs": [
    {
     "data": {
      "text/plain": [
       "2082.93153327005"
      ]
     },
     "execution_count": 33,
     "metadata": {},
     "output_type": "execute_result"
    }
   ],
   "source": [
    "mean_squared_error([610000],[612082.93153327],squared = False)"
   ]
  },
  {
   "cell_type": "code",
   "execution_count": null,
   "id": "actual-romance",
   "metadata": {},
   "outputs": [],
   "source": []
  }
 ],
 "metadata": {
  "kernelspec": {
   "display_name": "Python 3",
   "language": "python",
   "name": "python3"
  },
  "language_info": {
   "codemirror_mode": {
    "name": "ipython",
    "version": 3
   },
   "file_extension": ".py",
   "mimetype": "text/x-python",
   "name": "python",
   "nbconvert_exporter": "python",
   "pygments_lexer": "ipython3",
   "version": "3.9.0"
  }
 },
 "nbformat": 4,
 "nbformat_minor": 5
}
