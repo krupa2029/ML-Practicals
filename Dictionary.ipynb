{
  "nbformat": 4,
  "nbformat_minor": 0,
  "metadata": {
    "colab": {
      "name": "Dictionary.ipynb",
      "provenance": [],
      "collapsed_sections": [],
      "authorship_tag": "ABX9TyOeqZZLQ/XZsDsgsx9a2Lgc"
    },
    "kernelspec": {
      "name": "python3",
      "display_name": "Python 3"
    }
  },
  "cells": [
    {
      "cell_type": "code",
      "metadata": {
        "colab": {
          "base_uri": "https://localhost:8080/"
        },
        "id": "VLO9tdHX-pXA",
        "outputId": "2c3836a9-7dbd-4ea9-feac-c8e218b7e7b6"
      },
      "source": [
        "dict1={'name':'krupa',\r\n",
        "       'erno':535,\r\n",
        "       'branch':'CE',\r\n",
        "       'sem':6}\r\n",
        "print(dict1)"
      ],
      "execution_count": 3,
      "outputs": [
        {
          "output_type": "stream",
          "text": [
            "{'name': 'krupa', 'erno': 535, 'branch': 'CE', 'sem': 6}\n"
          ],
          "name": "stdout"
        }
      ]
    },
    {
      "cell_type": "code",
      "metadata": {
        "colab": {
          "base_uri": "https://localhost:8080/"
        },
        "id": "RHGcuTCR_t32",
        "outputId": "4afb8d9a-366a-4fe4-bcc7-c5a218efb5e2"
      },
      "source": [
        "#access value using key\r\n",
        "print(dict1['branch'])"
      ],
      "execution_count": 4,
      "outputs": [
        {
          "output_type": "stream",
          "text": [
            "CE\n"
          ],
          "name": "stdout"
        }
      ]
    },
    {
      "cell_type": "code",
      "metadata": {
        "colab": {
          "base_uri": "https://localhost:8080/"
        },
        "id": "YGMOQo6iAJIN",
        "outputId": "f5ad69a9-4244-42e6-871a-497461bcdbc2"
      },
      "source": [
        "#add new item in dictionary\r\n",
        "dict1[\"class\"]='b*'\r\n",
        "print(dict1) "
      ],
      "execution_count": 5,
      "outputs": [
        {
          "output_type": "stream",
          "text": [
            "{'name': 'krupa', 'erno': 535, 'branch': 'CE', 'sem': 6, 'class': 'b*'}\n"
          ],
          "name": "stdout"
        }
      ]
    },
    {
      "cell_type": "code",
      "metadata": {
        "colab": {
          "base_uri": "https://localhost:8080/"
        },
        "id": "F5iQqgEGCcpF",
        "outputId": "58f789bf-9334-4879-e03a-3dfd0f5f9c51"
      },
      "source": [
        "#change item\r\n",
        "dict1[\"class\"]='B*'\r\n",
        "print(dict1)"
      ],
      "execution_count": 6,
      "outputs": [
        {
          "output_type": "stream",
          "text": [
            "{'name': 'krupa', 'erno': 535, 'branch': 'CE', 'sem': 6, 'class': 'B*'}\n"
          ],
          "name": "stdout"
        }
      ]
    },
    {
      "cell_type": "code",
      "metadata": {
        "colab": {
          "base_uri": "https://localhost:8080/"
        },
        "id": "PSAk7BaoDB1e",
        "outputId": "441ececb-87f2-4fb8-c484-66b04dd90de7"
      },
      "source": [
        "#remove item\r\n",
        "dict1.pop(\"class\")\r\n",
        "print(dict1)"
      ],
      "execution_count": 7,
      "outputs": [
        {
          "output_type": "stream",
          "text": [
            "{'name': 'krupa', 'erno': 535, 'branch': 'CE', 'sem': 6}\n"
          ],
          "name": "stdout"
        }
      ]
    },
    {
      "cell_type": "code",
      "metadata": {
        "colab": {
          "base_uri": "https://localhost:8080/"
        },
        "id": "YBDL1ngDDQs9",
        "outputId": "3ee669f2-2d19-4683-92d9-b96fcab0d6f3"
      },
      "source": [
        "#Return keys\r\n",
        "k=dict1.keys()\r\n",
        "print(k)"
      ],
      "execution_count": 8,
      "outputs": [
        {
          "output_type": "stream",
          "text": [
            "dict_keys(['name', 'erno', 'branch', 'sem'])\n"
          ],
          "name": "stdout"
        }
      ]
    },
    {
      "cell_type": "code",
      "metadata": {
        "colab": {
          "base_uri": "https://localhost:8080/"
        },
        "id": "B7isJW2aDmbq",
        "outputId": "83da6a55-33af-44de-afec-9fbba80f78ba"
      },
      "source": [
        "#Return only values\r\n",
        "k=dict1.values()\r\n",
        "print(k)"
      ],
      "execution_count": 10,
      "outputs": [
        {
          "output_type": "stream",
          "text": [
            "dict_values(['krupa', 535, 'CE', 6])\n"
          ],
          "name": "stdout"
        }
      ]
    },
    {
      "cell_type": "code",
      "metadata": {
        "colab": {
          "base_uri": "https://localhost:8080/"
        },
        "id": "et2kfa4LECJ7",
        "outputId": "929cfa5c-a0ec-4c76-a2c2-d9d8f28d0f26"
      },
      "source": [
        "#copy \r\n",
        "std1=dict1.copy()\r\n",
        "print(std1)"
      ],
      "execution_count": 11,
      "outputs": [
        {
          "output_type": "stream",
          "text": [
            "{'name': 'krupa', 'erno': 535, 'branch': 'CE', 'sem': 6}\n"
          ],
          "name": "stdout"
        }
      ]
    },
    {
      "cell_type": "code",
      "metadata": {
        "colab": {
          "base_uri": "https://localhost:8080/"
        },
        "id": "vZ7zm2ZWEbXG",
        "outputId": "f2f84950-0ace-4f9c-fb2f-b9216c522bd9"
      },
      "source": [
        "#nested dictionary\r\n",
        "dict1={'name':'krupa',\r\n",
        "       'erno':535,\r\n",
        "       'branch':'CE',\r\n",
        "       'sem':6,\r\n",
        "       'spi':{'sem-5':9.21}}\r\n",
        "print(dict1)\r\n",
        "print(dict1['spi'])"
      ],
      "execution_count": 15,
      "outputs": [
        {
          "output_type": "stream",
          "text": [
            "{'name': 'krupa', 'erno': 535, 'branch': 'CE', 'sem': 6, 'spi': {'sem-5': 9.21}}\n",
            "{'sem-5': 9.21}\n"
          ],
          "name": "stdout"
        }
      ]
    },
    {
      "cell_type": "code",
      "metadata": {
        "colab": {
          "base_uri": "https://localhost:8080/"
        },
        "id": "qURMXL8JGTy4",
        "outputId": "816199d5-5fac-461d-aaa6-f4d87f7067a3"
      },
      "source": [
        "#clear dictionary\r\n",
        "dict2={'name':'krupa',\r\n",
        "       'erno':535,\r\n",
        "       'branch':'CE',\r\n",
        "       'sem':6,\r\n",
        "       'spi':{'sem-5':9.21}}\r\n",
        "dict2.clear()\r\n",
        "print(dict2)"
      ],
      "execution_count": 17,
      "outputs": [
        {
          "output_type": "stream",
          "text": [
            "{}\n"
          ],
          "name": "stdout"
        }
      ]
    }
  ]
}