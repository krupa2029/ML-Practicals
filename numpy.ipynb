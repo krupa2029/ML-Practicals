{
  "nbformat": 4,
  "nbformat_minor": 0,
  "metadata": {
    "colab": {
      "name": "numpy.ipynb",
      "provenance": [],
      "collapsed_sections": [],
      "authorship_tag": "ABX9TyOAsMQttDIzS9LecMoZyzt5"
    },
    "kernelspec": {
      "name": "python3",
      "display_name": "Python 3"
    }
  },
  "cells": [
    {
      "cell_type": "code",
      "metadata": {
        "id": "1vxcwSyCRKAC",
        "colab": {
          "base_uri": "https://localhost:8080/"
        },
        "outputId": "8f0505c4-0c04-4795-df16-8e8911d7a2ce"
      },
      "source": [
        "import numpy as np\r\n",
        "arr1 = np.array([1, 2, 3, 4, 5, 6, 7])\r\n",
        "print(arr1)"
      ],
      "execution_count": 2,
      "outputs": [
        {
          "output_type": "stream",
          "text": [
            "[1 2 3 4 5 6 7]\n"
          ],
          "name": "stdout"
        }
      ]
    },
    {
      "cell_type": "code",
      "metadata": {
        "colab": {
          "base_uri": "https://localhost:8080/"
        },
        "id": "TZ6_vhion_A4",
        "outputId": "8e298d08-7e95-431f-de4b-079e5a6c6f73"
      },
      "source": [
        "#type of array\r\n",
        "print(type(arr1))"
      ],
      "execution_count": 3,
      "outputs": [
        {
          "output_type": "stream",
          "text": [
            "<class 'numpy.ndarray'>\n"
          ],
          "name": "stdout"
        }
      ]
    },
    {
      "cell_type": "code",
      "metadata": {
        "colab": {
          "base_uri": "https://localhost:8080/"
        },
        "id": "BZaBa-tIoM1d",
        "outputId": "11af2fb4-d59e-4b13-8c76-fce421e9ed32"
      },
      "source": [
        "#array from tuple\r\n",
        "import numpy as np\r\n",
        "arr2 = np.array((1, 2, 3, 4, 5))\r\n",
        "print(arr2)"
      ],
      "execution_count": 4,
      "outputs": [
        {
          "output_type": "stream",
          "text": [
            "[1 2 3 4 5]\n"
          ],
          "name": "stdout"
        }
      ]
    },
    {
      "cell_type": "code",
      "metadata": {
        "colab": {
          "base_uri": "https://localhost:8080/"
        },
        "id": "448HMQw-qGYh",
        "outputId": "36de214e-3d46-44cc-eceb-97f0f645d264"
      },
      "source": [
        "#0-D array\r\n",
        "import numpy as np\r\n",
        "d0 = np.array(42)\r\n",
        "print(d0)\r\n"
      ],
      "execution_count": 5,
      "outputs": [
        {
          "output_type": "stream",
          "text": [
            "42\n"
          ],
          "name": "stdout"
        }
      ]
    },
    {
      "cell_type": "code",
      "metadata": {
        "colab": {
          "base_uri": "https://localhost:8080/"
        },
        "id": "eo825wzoqZwV",
        "outputId": "b8f3f2c7-7870-4ba4-ffc5-5be397b7960a"
      },
      "source": [
        "#1-D array\r\n",
        "import numpy as np\r\n",
        "d1 = np.array([1, 2, 3, 4, 5])\r\n",
        "print(d1)"
      ],
      "execution_count": 7,
      "outputs": [
        {
          "output_type": "stream",
          "text": [
            "[1 2 3 4 5]\n"
          ],
          "name": "stdout"
        }
      ]
    },
    {
      "cell_type": "code",
      "metadata": {
        "colab": {
          "base_uri": "https://localhost:8080/"
        },
        "id": "Rqg8Sgn1qkjw",
        "outputId": "c20c2849-1bbb-44d9-fb16-6ab4ba5b15af"
      },
      "source": [
        "#2-D array\r\n",
        "import numpy as np\r\n",
        "d2 = np.array([[1, 2, 3], [4, 5, 6]])\r\n",
        "print(d2)"
      ],
      "execution_count": 8,
      "outputs": [
        {
          "output_type": "stream",
          "text": [
            "[[1 2 3]\n",
            " [4 5 6]]\n"
          ],
          "name": "stdout"
        }
      ]
    },
    {
      "cell_type": "code",
      "metadata": {
        "colab": {
          "base_uri": "https://localhost:8080/"
        },
        "id": "lfSg7yVEr6Oo",
        "outputId": "2f3f1b1f-3d29-49e6-97b4-3af2cf15259a"
      },
      "source": [
        "#3-D array\r\n",
        "import numpy as np\r\n",
        "d3= np.array([[[1, 2, 3], [4, 5, 6]], [[1, 2, 3], [4, 5, 6]]])\r\n",
        "print(d3)"
      ],
      "execution_count": 9,
      "outputs": [
        {
          "output_type": "stream",
          "text": [
            "[[[1 2 3]\n",
            "  [4 5 6]]\n",
            "\n",
            " [[1 2 3]\n",
            "  [4 5 6]]]\n"
          ],
          "name": "stdout"
        }
      ]
    },
    {
      "cell_type": "code",
      "metadata": {
        "colab": {
          "base_uri": "https://localhost:8080/"
        },
        "id": "ZG1vsgV_sCS_",
        "outputId": "c9cda556-c4c7-48d8-b2c1-58773132d00a"
      },
      "source": [
        "#check dim of array\r\n",
        "import numpy as np\r\n",
        "\r\n",
        "a= np.array([[1, 2, 3], [4, 5, 6]])\r\n",
        "b = np.array([[[1, 2, 3], [4, 5, 6]], [[1, 2, 3], [4, 5, 6]]])\r\n",
        "\r\n",
        "print(a.ndim)\r\n",
        "print(b.ndim)"
      ],
      "execution_count": 11,
      "outputs": [
        {
          "output_type": "stream",
          "text": [
            "2\n",
            "3\n"
          ],
          "name": "stdout"
        }
      ]
    },
    {
      "cell_type": "code",
      "metadata": {
        "colab": {
          "base_uri": "https://localhost:8080/"
        },
        "id": "YaxjlkODsUcm",
        "outputId": "f1ecef0d-7a31-41c6-c204-96006224057d"
      },
      "source": [
        "#Higher Dim Array\r\n",
        "import numpy as np\r\n",
        "arr = np.array([1, 2, 3, 4], ndmin=8)\r\n",
        "print(arr)\r\n",
        "print('number of dimensions :', arr.ndim)"
      ],
      "execution_count": 12,
      "outputs": [
        {
          "output_type": "stream",
          "text": [
            "[[[[[[[[1 2 3 4]]]]]]]]\n",
            "number of dimensions : 8\n"
          ],
          "name": "stdout"
        }
      ]
    },
    {
      "cell_type": "code",
      "metadata": {
        "colab": {
          "base_uri": "https://localhost:8080/"
        },
        "id": "LuezfFgBuFjM",
        "outputId": "198e11e8-7400-4a5d-937a-9b9900a9f738"
      },
      "source": [
        "#Access Array Elements\r\n",
        "import numpy as np\r\n",
        "arr = np.array([1, 2, 3, 4])\r\n",
        "print(arr[2])"
      ],
      "execution_count": 14,
      "outputs": [
        {
          "output_type": "stream",
          "text": [
            "3\n"
          ],
          "name": "stdout"
        }
      ]
    },
    {
      "cell_type": "code",
      "metadata": {
        "colab": {
          "base_uri": "https://localhost:8080/"
        },
        "id": "t0CF24hfurTg",
        "outputId": "02a95046-a95c-4215-c4a8-216787803ee5"
      },
      "source": [
        "#Access 2-D Arrays\r\n",
        "import numpy as np\r\n",
        "arr = np.array([[1,2,3,4,5], [6,7,8,9,10]])\r\n",
        "print('5th element on 2nd dim: ', arr[1, 4])"
      ],
      "execution_count": 16,
      "outputs": [
        {
          "output_type": "stream",
          "text": [
            "5th element on 2nd dim:  10\n"
          ],
          "name": "stdout"
        }
      ]
    },
    {
      "cell_type": "code",
      "metadata": {
        "colab": {
          "base_uri": "https://localhost:8080/"
        },
        "id": "qY9gvuP4urds",
        "outputId": "bd601b56-293b-485b-f25f-da02f045c78b"
      },
      "source": [
        "#Access 3-D Arrays\r\n",
        "import numpy as np\r\n",
        "arr = np.array([[[1, 2, 3], [4, 5, 6]], [[7, 8, 9], [10, 11, 12]]])\r\n",
        "print(arr[0, 1, 2])"
      ],
      "execution_count": 17,
      "outputs": [
        {
          "output_type": "stream",
          "text": [
            "6\n"
          ],
          "name": "stdout"
        }
      ]
    },
    {
      "cell_type": "code",
      "metadata": {
        "id": "A9tVMlPSwHpT",
        "colab": {
          "base_uri": "https://localhost:8080/"
        },
        "outputId": "a5aad048-d469-4368-81a7-b8747b414f85"
      },
      "source": [
        "#Slicing arrays\r\n",
        "import numpy as np\r\n",
        "arr = np.array([1, 2, 3, 4, 5, 6, 7])\r\n",
        "print(arr[1:5])\r\n",
        "print(arr[4:])\r\n",
        "print(arr[:4])"
      ],
      "execution_count": 18,
      "outputs": [
        {
          "output_type": "stream",
          "text": [
            "[2 3 4 5]\n",
            "[5 6 7]\n",
            "[1 2 3 4]\n"
          ],
          "name": "stdout"
        }
      ]
    },
    {
      "cell_type": "code",
      "metadata": {
        "colab": {
          "base_uri": "https://localhost:8080/"
        },
        "id": "0Nf2VB9LRhhG",
        "outputId": "fabe6b4a-762b-4c82-a128-513b7ed5f92c"
      },
      "source": [
        "#Negative Slicing\r\n",
        "import numpy as np\r\n",
        "arr = np.array([1, 2, 3, 4, 5, 6, 7])\r\n",
        "print(arr[-3:-1])"
      ],
      "execution_count": 20,
      "outputs": [
        {
          "output_type": "stream",
          "text": [
            "[5 6]\n"
          ],
          "name": "stdout"
        }
      ]
    },
    {
      "cell_type": "code",
      "metadata": {
        "colab": {
          "base_uri": "https://localhost:8080/"
        },
        "id": "X3s_eBLXSBjj",
        "outputId": "50848a34-75c0-4f99-8737-774e4c0fe3ba"
      },
      "source": [
        "#Slicing 2-D Arrays\r\n",
        "\r\n",
        "import numpy as np\r\n",
        "arr = np.array([[1, 2, 3, 4, 5], [6, 7, 8, 9, 10]])\r\n",
        "print(arr[1, 1:4])"
      ],
      "execution_count": 21,
      "outputs": [
        {
          "output_type": "stream",
          "text": [
            "[7 8 9]\n"
          ],
          "name": "stdout"
        }
      ]
    },
    {
      "cell_type": "code",
      "metadata": {
        "colab": {
          "base_uri": "https://localhost:8080/"
        },
        "id": "fy5Y6_HUSP5V",
        "outputId": "9797c10d-78b6-4ac2-a73a-c52ceb918b3f"
      },
      "source": [
        "#Data Type of array\r\n",
        "import numpy as np\r\n",
        "arr = np.array(['apple', 'banana', 'cherry'])\r\n",
        "print(arr.dtype)"
      ],
      "execution_count": 23,
      "outputs": [
        {
          "output_type": "stream",
          "text": [
            "<U6\n"
          ],
          "name": "stdout"
        }
      ]
    },
    {
      "cell_type": "code",
      "metadata": {
        "colab": {
          "base_uri": "https://localhost:8080/"
        },
        "id": "XL6t3JD-TIRc",
        "outputId": "b1502b02-0435-4cda-f5bb-cae9a4275204"
      },
      "source": [
        "#Creating Arrays With a Defined Data Type\r\n",
        "import numpy as np\r\n",
        "arr = np.array([1, 2, 3, 4], dtype='S')\r\n",
        "print(arr)\r\n",
        "print(arr.dtype)"
      ],
      "execution_count": 24,
      "outputs": [
        {
          "output_type": "stream",
          "text": [
            "[b'1' b'2' b'3' b'4']\n",
            "|S1\n"
          ],
          "name": "stdout"
        }
      ]
    },
    {
      "cell_type": "code",
      "metadata": {
        "colab": {
          "base_uri": "https://localhost:8080/"
        },
        "id": "K3qjxqbXTWJ2",
        "outputId": "37fce791-32d0-4184-a7f7-8d594ef80283"
      },
      "source": [
        "#VIEW\r\n",
        "import numpy as np\r\n",
        "arr = np.array([1,2,3,4,5,6,7])\r\n",
        "k = arr.view()\r\n",
        "arr[0] = 31\r\n",
        "print(arr)\r\n",
        "print(k)"
      ],
      "execution_count": 25,
      "outputs": [
        {
          "output_type": "stream",
          "text": [
            "[31  2  3  4  5  6  7]\n",
            "[31  2  3  4  5  6  7]\n"
          ],
          "name": "stdout"
        }
      ]
    },
    {
      "cell_type": "code",
      "metadata": {
        "colab": {
          "base_uri": "https://localhost:8080/"
        },
        "id": "jioes4z0UB2S",
        "outputId": "a37e0e67-5df5-425d-adef-c2d9af96c34c"
      },
      "source": [
        "#COPY\r\n",
        "import numpy as np\r\n",
        "arr = np.array([1, 2, 3, 4, 5])\r\n",
        "d = arr.copy()\r\n",
        "arr[0] = 42\r\n",
        "print(arr)\r\n",
        "print(d)"
      ],
      "execution_count": 26,
      "outputs": [
        {
          "output_type": "stream",
          "text": [
            "[42  2  3  4  5]\n",
            "[1 2 3 4 5]\n"
          ],
          "name": "stdout"
        }
      ]
    },
    {
      "cell_type": "code",
      "metadata": {
        "id": "tTH4lT5pU_gd",
        "colab": {
          "base_uri": "https://localhost:8080/"
        },
        "outputId": "86bf5b06-af46-4ee5-d6a3-a199526b45e2"
      },
      "source": [
        "#Shape of an Array\r\n",
        "import numpy as np\r\n",
        "arr = np.array([[1, 2, 3, 4], [5, 6, 7, 8]])\r\n",
        "print(arr.shape)"
      ],
      "execution_count": 27,
      "outputs": [
        {
          "output_type": "stream",
          "text": [
            "(2, 4)\n"
          ],
          "name": "stdout"
        }
      ]
    },
    {
      "cell_type": "code",
      "metadata": {
        "colab": {
          "base_uri": "https://localhost:8080/"
        },
        "id": "ai6_oI6oc3kw",
        "outputId": "aefde1ea-f711-4b59-f061-33a55168853a"
      },
      "source": [
        "#Join Arrays\r\n",
        "\r\n",
        "import numpy as np\r\n",
        "arr1 = np.array([1, 2, 3])\r\n",
        "arr2 = np.array([4, 5, 6])\r\n",
        "arr = np.concatenate((arr1, arr2))\r\n",
        "print(arr)"
      ],
      "execution_count": 28,
      "outputs": [
        {
          "output_type": "stream",
          "text": [
            "[1 2 3 4 5 6]\n"
          ],
          "name": "stdout"
        }
      ]
    },
    {
      "cell_type": "code",
      "metadata": {
        "colab": {
          "base_uri": "https://localhost:8080/"
        },
        "id": "bXfrb5F0ebon",
        "outputId": "db9865cd-b9c6-4b19-a5af-54e1e209ecd4"
      },
      "source": [
        "#Join two 2-D arrays along rows\r\n",
        "import numpy as np\r\n",
        "arr1 = np.array([[1, 2], [3, 4]])\r\n",
        "arr2 = np.array([[5, 6], [7, 8]])\r\n",
        "arr = np.concatenate((arr1, arr2), axis=1)\r\n",
        "print(arr)"
      ],
      "execution_count": 29,
      "outputs": [
        {
          "output_type": "stream",
          "text": [
            "[[1 2 5 6]\n",
            " [3 4 7 8]]\n"
          ],
          "name": "stdout"
        }
      ]
    },
    {
      "cell_type": "code",
      "metadata": {
        "colab": {
          "base_uri": "https://localhost:8080/"
        },
        "id": "WxIie2hPEUHb",
        "outputId": "796cdf2c-18bc-4e4b-94ee-6519a3ab459e"
      },
      "source": [
        "#Sort Array\r\n",
        "import numpy as np\r\n",
        "arr = np.array([[3, 2, 4], [5, 0, 1]])\r\n",
        "print(np.sort(arr))"
      ],
      "execution_count": 30,
      "outputs": [
        {
          "output_type": "stream",
          "text": [
            "[[2 3 4]\n",
            " [0 1 5]]\n"
          ],
          "name": "stdout"
        }
      ]
    }
  ]
}