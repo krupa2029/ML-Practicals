{
  "nbformat": 4,
  "nbformat_minor": 0,
  "metadata": {
    "colab": {
      "name": "list.ipynb",
      "provenance": [],
      "collapsed_sections": [],
      "authorship_tag": "ABX9TyP225gB/D0tMLqHLSSgMS98",
      "include_colab_link": true
    },
    "kernelspec": {
      "name": "python3",
      "display_name": "Python 3"
    }
  },
  "cells": [
    {
      "cell_type": "markdown",
      "metadata": {
        "id": "view-in-github",
        "colab_type": "text"
      },
      "source": [
        "<a href=\"https://colab.research.google.com/github/krupa2029/ML-Practicals/blob/main/list.ipynb\" target=\"_parent\"><img src=\"https://colab.research.google.com/assets/colab-badge.svg\" alt=\"Open In Colab\"/></a>"
      ]
    },
    {
      "cell_type": "code",
      "metadata": {
        "colab": {
          "base_uri": "https://localhost:8080/"
        },
        "id": "FhTqrnpGOIC-",
        "outputId": "61f23c33-f887-4384-e59e-cf4ff224c031"
      },
      "source": [
        "mylist=['krupa',35,True,19.5,\"disha\"]\r\n",
        "print(mylist)"
      ],
      "execution_count": 2,
      "outputs": [
        {
          "output_type": "stream",
          "text": [
            "['krupa', 35, True, 19.5, 'disha']\n"
          ],
          "name": "stdout"
        }
      ]
    },
    {
      "cell_type": "code",
      "metadata": {
        "colab": {
          "base_uri": "https://localhost:8080/"
        },
        "id": "dk_TNTJediyx",
        "outputId": "07504b27-8878-4552-a398-fbaf4f8f84f3"
      },
      "source": [
        "print(mylist[4])"
      ],
      "execution_count": 4,
      "outputs": [
        {
          "output_type": "stream",
          "text": [
            "disha\n"
          ],
          "name": "stdout"
        }
      ]
    },
    {
      "cell_type": "code",
      "metadata": {
        "colab": {
          "base_uri": "https://localhost:8080/"
        },
        "id": "VByyXQWud7aA",
        "outputId": "36907052-ab3a-4a3a-cfd4-5078ef58892b"
      },
      "source": [
        "#Slicing \r\n",
        "print(mylist[0:3])\r\n",
        "print(mylist[1:4])"
      ],
      "execution_count": 7,
      "outputs": [
        {
          "output_type": "stream",
          "text": [
            "['krupa', 35, True]\n",
            "[35, True, 19.5]\n"
          ],
          "name": "stdout"
        }
      ]
    },
    {
      "cell_type": "code",
      "metadata": {
        "colab": {
          "base_uri": "https://localhost:8080/"
        },
        "id": "7tuoKqH8eEsf",
        "outputId": "1d7e0dec-dd21-4535-c3e5-17f83bd66296"
      },
      "source": [
        "#sort\r\n",
        "l1=[1,8,14,78,35,2]\r\n",
        "l1.sort()\r\n",
        "print(l1)"
      ],
      "execution_count": 9,
      "outputs": [
        {
          "output_type": "stream",
          "text": [
            "[1, 2, 8, 14, 35, 78]\n"
          ],
          "name": "stdout"
        }
      ]
    },
    {
      "cell_type": "code",
      "metadata": {
        "colab": {
          "base_uri": "https://localhost:8080/"
        },
        "id": "XRkdetxseBVz",
        "outputId": "b60524e1-6f37-446c-c6c7-7443a0aa152d"
      },
      "source": [
        "#reverse-list\r\n",
        "l1.reverse()\r\n",
        "print(l1)"
      ],
      "execution_count": 11,
      "outputs": [
        {
          "output_type": "stream",
          "text": [
            "[1, 2, 8, 14, 35, 78]\n"
          ],
          "name": "stdout"
        }
      ]
    },
    {
      "cell_type": "code",
      "metadata": {
        "colab": {
          "base_uri": "https://localhost:8080/"
        },
        "id": "dYDx4MPNhOzy",
        "outputId": "c4c04fe9-0789-43d4-f5b2-9576ca4f3a6d"
      },
      "source": [
        "l2=['krupa', 'disha','kotia']\r\n",
        "print(l2)"
      ],
      "execution_count": 18,
      "outputs": [
        {
          "output_type": "stream",
          "text": [
            "['krupa', 'disha', 'kotia']\n"
          ],
          "name": "stdout"
        }
      ]
    },
    {
      "cell_type": "code",
      "metadata": {
        "colab": {
          "base_uri": "https://localhost:8080/"
        },
        "id": "5oDGG_Zchx9U",
        "outputId": "c33d10c4-b9ac-4f50-b6a6-86c07566beb8"
      },
      "source": [
        "#insert\r\n",
        "l2.insert(2,'arya')\r\n",
        "print(l2)"
      ],
      "execution_count": 19,
      "outputs": [
        {
          "output_type": "stream",
          "text": [
            "['krupa', 'disha', 'arya', 'kotia']\n"
          ],
          "name": "stdout"
        }
      ]
    },
    {
      "cell_type": "code",
      "metadata": {
        "colab": {
          "base_uri": "https://localhost:8080/"
        },
        "id": "XO2ZNyHniEsl",
        "outputId": "f24ac208-b5aa-4d07-f63f-d3ce35df433f"
      },
      "source": [
        "#pop\r\n",
        "l2.pop(2)\r\n",
        "print(l2)"
      ],
      "execution_count": 21,
      "outputs": [
        {
          "output_type": "stream",
          "text": [
            "['krupa', 'disha', 'kotia']\n"
          ],
          "name": "stdout"
        }
      ]
    },
    {
      "cell_type": "code",
      "metadata": {
        "colab": {
          "base_uri": "https://localhost:8080/"
        },
        "id": "AS4WtdtbiYtw",
        "outputId": "618938d7-8ec6-405a-cc33-39a8b019ece1"
      },
      "source": [
        "#remove\r\n",
        "l2.remove('kotia')\r\n",
        "print(l2)"
      ],
      "execution_count": 22,
      "outputs": [
        {
          "output_type": "stream",
          "text": [
            "['krupa', 'disha']\n"
          ],
          "name": "stdout"
        }
      ]
    },
    {
      "cell_type": "code",
      "metadata": {
        "colab": {
          "base_uri": "https://localhost:8080/"
        },
        "id": "QrwNhMHf5XKu",
        "outputId": "3e13b9d2-249e-4e02-bc7f-c1c3a0291029"
      },
      "source": [
        "#copy list\r\n",
        "l3=[\"krp\",'dsh',19,82]\r\n",
        "l4=l3.copy()\r\n",
        "print(l4)"
      ],
      "execution_count": 24,
      "outputs": [
        {
          "output_type": "stream",
          "text": [
            "['krp', 'dsh', 19, 82]\n"
          ],
          "name": "stdout"
        }
      ]
    },
    {
      "cell_type": "code",
      "metadata": {
        "colab": {
          "base_uri": "https://localhost:8080/"
        },
        "id": "qWOcPOAU6GAO",
        "outputId": "ce1b0748-5062-4c09-a47c-f1a9e3c2d71b"
      },
      "source": [
        "#join list\r\n",
        "l5=l2+l3\r\n",
        "print(l5)"
      ],
      "execution_count": 25,
      "outputs": [
        {
          "output_type": "stream",
          "text": [
            "['krupa', 'disha', 'krp', 'dsh', 19, 82]\n"
          ],
          "name": "stdout"
        }
      ]
    }
  ]
}