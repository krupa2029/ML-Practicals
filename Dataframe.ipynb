{
  "nbformat": 4,
  "nbformat_minor": 0,
  "metadata": {
    "colab": {
      "name": "Dataframe.ipynb",
      "provenance": [],
      "collapsed_sections": [],
      "authorship_tag": "ABX9TyP0G+2ZK4mK/dnHO2H4kIih"
    },
    "kernelspec": {
      "name": "python3",
      "display_name": "Python 3"
    }
  },
  "cells": [
    {
      "cell_type": "code",
      "metadata": {
        "colab": {
          "base_uri": "https://localhost:8080/"
        },
        "id": "1RAUYtoHJVpt",
        "outputId": "c6fd70e9-a877-4b12-ceb4-bcf079420837"
      },
      "source": [
        "import pandas as pd\r\n",
        "\r\n",
        "data1 = {\r\n",
        "  \"Roll-No\": [23, 15,10,30 ],\r\n",
        "  \"Student-Name\": [\"Krupa\", 'Disha', 'Aarya','Misti'],\r\n",
        "  \"Marks\":[90,89,91,88]\r\n",
        "}\r\n",
        "\r\n",
        "df = pd.DataFrame(data1)\r\n",
        "print(df) "
      ],
      "execution_count": 6,
      "outputs": [
        {
          "output_type": "stream",
          "text": [
            "   Roll-No Student-Name  Marks\n",
            "0       23        Krupa     90\n",
            "1       15        Disha     89\n",
            "2       10        Aarya     91\n",
            "3       30        Misti     88\n"
          ],
          "name": "stdout"
        }
      ]
    },
    {
      "cell_type": "code",
      "metadata": {
        "colab": {
          "base_uri": "https://localhost:8080/"
        },
        "id": "VV6DI_82MDkS",
        "outputId": "792ec12c-7312-41a7-ae48-5fd90fc348b2"
      },
      "source": [
        "#refer to the row index:\r\n",
        "print(df.loc[1])"
      ],
      "execution_count": 7,
      "outputs": [
        {
          "output_type": "stream",
          "text": [
            "Roll-No            15\n",
            "Student-Name    Disha\n",
            "Marks              89\n",
            "Name: 1, dtype: object\n"
          ],
          "name": "stdout"
        }
      ]
    },
    {
      "cell_type": "code",
      "metadata": {
        "colab": {
          "base_uri": "https://localhost:8080/"
        },
        "id": "aflE99n1Mt9G",
        "outputId": "f9311754-e505-40a3-9f07-deae35b66e8a"
      },
      "source": [
        "print(df.loc[[0, 1]])"
      ],
      "execution_count": 8,
      "outputs": [
        {
          "output_type": "stream",
          "text": [
            "   Roll-No Student-Name  Marks\n",
            "0       23        Krupa     90\n",
            "1       15        Disha     89\n"
          ],
          "name": "stdout"
        }
      ]
    },
    {
      "cell_type": "code",
      "metadata": {
        "colab": {
          "base_uri": "https://localhost:8080/"
        },
        "id": "SPP8rtAaNFan",
        "outputId": "80222e83-2bd1-4cf0-aeb5-42f5b5192059"
      },
      "source": [
        "#Named Index\r\n",
        "import pandas as pd\r\n",
        "\r\n",
        "data2 = {\r\n",
        "  \"Student-Name\": [\"Krupa\", 'Disha', 'Aarya','Misti'],\r\n",
        "  \"Marks\":[90,89,91,88]\r\n",
        "}\r\n",
        "\r\n",
        "df2 = pd.DataFrame(data2, index = [\"1\", \"2\", \"3\",\"4\"])\r\n",
        "\r\n",
        "print(df2) "
      ],
      "execution_count": 10,
      "outputs": [
        {
          "output_type": "stream",
          "text": [
            "  Student-Name  Marks\n",
            "1        Krupa     90\n",
            "2        Disha     89\n",
            "3        Aarya     91\n",
            "4        Misti     88\n"
          ],
          "name": "stdout"
        }
      ]
    },
    {
      "cell_type": "code",
      "metadata": {
        "colab": {
          "base_uri": "https://localhost:8080/"
        },
        "id": "tlad5QZVN3oD",
        "outputId": "d359c3e3-7c32-40f6-fbbb-eea365073078"
      },
      "source": [
        "#access row using index name\r\n",
        "print(df2.loc[\"3\"])"
      ],
      "execution_count": 11,
      "outputs": [
        {
          "output_type": "stream",
          "text": [
            "Student-Name    Aarya\n",
            "Marks              91\n",
            "Name: 3, dtype: object\n"
          ],
          "name": "stdout"
        }
      ]
    },
    {
      "cell_type": "code",
      "metadata": {
        "colab": {
          "base_uri": "https://localhost:8080/",
          "height": 173
        },
        "id": "5G8sjcT4PbjD",
        "outputId": "7279d2ae-72ae-429c-f800-90e7709c2329"
      },
      "source": [
        "#Dataframe in table-style\r\n",
        "from IPython.display import display \r\n",
        "import pandas as pd \r\n",
        "\r\n",
        "data1 = {\r\n",
        "  \"Roll-No\": [23, 15,10,30 ],\r\n",
        "  \"Name\": [\"Krupa\", 'Disha', 'Aarya','Misti'],\r\n",
        "  \"Marks\":[90,89,91,88]\r\n",
        "}\r\n",
        "\r\n",
        "df1 = pd.DataFrame(data1)\r\n",
        "\r\n",
        "display(df1) "
      ],
      "execution_count": 15,
      "outputs": [
        {
          "output_type": "display_data",
          "data": {
            "text/html": [
              "<div>\n",
              "<style scoped>\n",
              "    .dataframe tbody tr th:only-of-type {\n",
              "        vertical-align: middle;\n",
              "    }\n",
              "\n",
              "    .dataframe tbody tr th {\n",
              "        vertical-align: top;\n",
              "    }\n",
              "\n",
              "    .dataframe thead th {\n",
              "        text-align: right;\n",
              "    }\n",
              "</style>\n",
              "<table border=\"1\" class=\"dataframe\">\n",
              "  <thead>\n",
              "    <tr style=\"text-align: right;\">\n",
              "      <th></th>\n",
              "      <th>Roll-No</th>\n",
              "      <th>Name</th>\n",
              "      <th>Marks</th>\n",
              "    </tr>\n",
              "  </thead>\n",
              "  <tbody>\n",
              "    <tr>\n",
              "      <th>0</th>\n",
              "      <td>23</td>\n",
              "      <td>Krupa</td>\n",
              "      <td>90</td>\n",
              "    </tr>\n",
              "    <tr>\n",
              "      <th>1</th>\n",
              "      <td>15</td>\n",
              "      <td>Disha</td>\n",
              "      <td>89</td>\n",
              "    </tr>\n",
              "    <tr>\n",
              "      <th>2</th>\n",
              "      <td>10</td>\n",
              "      <td>Aarya</td>\n",
              "      <td>91</td>\n",
              "    </tr>\n",
              "    <tr>\n",
              "      <th>3</th>\n",
              "      <td>30</td>\n",
              "      <td>Misti</td>\n",
              "      <td>88</td>\n",
              "    </tr>\n",
              "  </tbody>\n",
              "</table>\n",
              "</div>"
            ],
            "text/plain": [
              "   Roll-No   Name  Marks\n",
              "0       23  Krupa     90\n",
              "1       15  Disha     89\n",
              "2       10  Aarya     91\n",
              "3       30  Misti     88"
            ]
          },
          "metadata": {
            "tags": []
          }
        }
      ]
    }
  ]
}